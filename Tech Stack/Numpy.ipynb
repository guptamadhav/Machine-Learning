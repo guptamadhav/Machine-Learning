{
 "cells": [
  {
   "cell_type": "code",
   "execution_count": 3,
   "id": "692abbf5",
   "metadata": {},
   "outputs": [
    {
     "name": "stdout",
     "output_type": "stream",
     "text": [
      "Requirement already satisfied: numpy in c:\\users\\madha\\anaconda3\\lib\\site-packages (1.24.3)\n"
     ]
    }
   ],
   "source": [
    "!pip install numpy"
   ]
  },
  {
   "cell_type": "code",
   "execution_count": 4,
   "id": "858ea920",
   "metadata": {},
   "outputs": [],
   "source": [
    "import numpy as np\n"
   ]
  },
  {
   "cell_type": "markdown",
   "id": "2c06ed99",
   "metadata": {},
   "source": [
    "Create"
   ]
  },
  {
   "cell_type": "code",
   "execution_count": 5,
   "id": "c2e6a1ef",
   "metadata": {},
   "outputs": [],
   "source": [
    "data = np.random.rand(2,3,4)\n",
    "zeroes = np.zeros((2,2,2))\n",
    "full = np.full((2,2,2), 7)\n",
    "ones = np.ones((2,2,2))"
   ]
  },
  {
   "cell_type": "code",
   "execution_count": 6,
   "id": "8b00ca0e",
   "metadata": {},
   "outputs": [
    {
     "data": {
      "text/plain": [
       "array([[[0.6665153 , 0.38794641, 0.79701477, 0.51425981],\n",
       "        [0.76286871, 0.52891634, 0.00873656, 0.81671207],\n",
       "        [0.74252355, 0.22787815, 0.26794075, 0.02177878]],\n",
       "\n",
       "       [[0.38370799, 0.06082015, 0.8548143 , 0.48758651],\n",
       "        [0.58296561, 0.75399342, 0.14005816, 0.5185509 ],\n",
       "        [0.02866196, 0.26259479, 0.03295016, 0.75730273]]])"
      ]
     },
     "execution_count": 6,
     "metadata": {},
     "output_type": "execute_result"
    }
   ],
   "source": [
    "data"
   ]
  },
  {
   "cell_type": "code",
   "execution_count": 7,
   "id": "a731600f",
   "metadata": {},
   "outputs": [
    {
     "data": {
      "text/plain": [
       "array([[[0., 0.],\n",
       "        [0., 0.]],\n",
       "\n",
       "       [[0., 0.],\n",
       "        [0., 0.]]])"
      ]
     },
     "execution_count": 7,
     "metadata": {},
     "output_type": "execute_result"
    }
   ],
   "source": [
    "zeroes"
   ]
  },
  {
   "cell_type": "code",
   "execution_count": 8,
   "id": "85d818e0",
   "metadata": {},
   "outputs": [
    {
     "data": {
      "text/plain": [
       "array([[[7, 7],\n",
       "        [7, 7]],\n",
       "\n",
       "       [[7, 7],\n",
       "        [7, 7]]])"
      ]
     },
     "execution_count": 8,
     "metadata": {},
     "output_type": "execute_result"
    }
   ],
   "source": [
    "full"
   ]
  },
  {
   "cell_type": "code",
   "execution_count": 9,
   "id": "b2ec22f4",
   "metadata": {},
   "outputs": [
    {
     "data": {
      "text/plain": [
       "array([[[1., 1.],\n",
       "        [1., 1.]],\n",
       "\n",
       "       [[1., 1.],\n",
       "        [1., 1.]]])"
      ]
     },
     "execution_count": 9,
     "metadata": {},
     "output_type": "execute_result"
    }
   ],
   "source": [
    "ones"
   ]
  },
  {
   "cell_type": "code",
   "execution_count": 10,
   "id": "0321921a",
   "metadata": {},
   "outputs": [],
   "source": [
    "arr =  np.array([[1,2,3,4], [1,2,42,3]])"
   ]
  },
  {
   "cell_type": "code",
   "execution_count": 11,
   "id": "79c726d8",
   "metadata": {},
   "outputs": [
    {
     "data": {
      "text/plain": [
       "array([[ 1,  2,  3,  4],\n",
       "       [ 1,  2, 42,  3]])"
      ]
     },
     "execution_count": 11,
     "metadata": {},
     "output_type": "execute_result"
    }
   ],
   "source": [
    "arr"
   ]
  },
  {
   "cell_type": "code",
   "execution_count": 12,
   "id": "0c3cc724",
   "metadata": {},
   "outputs": [
    {
     "data": {
      "text/plain": [
       "numpy.ndarray"
      ]
     },
     "execution_count": 12,
     "metadata": {},
     "output_type": "execute_result"
    }
   ],
   "source": [
    "type(arr)"
   ]
  },
  {
   "cell_type": "markdown",
   "id": "96c176c8",
   "metadata": {},
   "source": [
    "Read"
   ]
  },
  {
   "cell_type": "code",
   "execution_count": 16,
   "id": "c8521cb3",
   "metadata": {},
   "outputs": [],
   "source": [
    "shape = data.shape #dimensions of array\n",
    "\n",
    "size = data.size #total number of element in array\n",
    "types = data.dtype #gives the type of data in array"
   ]
  },
  {
   "cell_type": "code",
   "execution_count": 19,
   "id": "4596c18c",
   "metadata": {},
   "outputs": [],
   "source": [
    "# Slicing: similar to normal slicing\n",
    "arr = data[0]\n",
    "reverse = data[-1] # last value specified\n",
    "slicer = data[0][0:2]\n",
    "single_value = data[0][0][1]"
   ]
  },
  {
   "cell_type": "code",
   "execution_count": 21,
   "id": "355eda9d",
   "metadata": {},
   "outputs": [
    {
     "data": {
      "text/plain": [
       "(0.38794640653301404,\n",
       " array([[0.6665153 , 0.38794641, 0.79701477, 0.51425981],\n",
       "        [0.76286871, 0.52891634, 0.00873656, 0.81671207],\n",
       "        [0.74252355, 0.22787815, 0.26794075, 0.02177878]]),\n",
       " array([[0.38370799, 0.06082015, 0.8548143 , 0.48758651],\n",
       "        [0.58296561, 0.75399342, 0.14005816, 0.5185509 ],\n",
       "        [0.02866196, 0.26259479, 0.03295016, 0.75730273]]),\n",
       " array([[0.6665153 , 0.38794641, 0.79701477, 0.51425981],\n",
       "        [0.76286871, 0.52891634, 0.00873656, 0.81671207]]))"
      ]
     },
     "execution_count": 21,
     "metadata": {},
     "output_type": "execute_result"
    }
   ],
   "source": [
    "single_value, arr, reverse, slicer"
   ]
  },
  {
   "cell_type": "markdown",
   "id": "076ce28e",
   "metadata": {},
   "source": [
    "Update"
   ]
  },
  {
   "cell_type": "code",
   "execution_count": 23,
   "id": "f0c22a3d",
   "metadata": {},
   "outputs": [],
   "source": [
    "list1 = np.random.rand(10)\n",
    "list2 = np.random.rand(10)"
   ]
  },
  {
   "cell_type": "code",
   "execution_count": 24,
   "id": "8d4a0e75",
   "metadata": {},
   "outputs": [
    {
     "data": {
      "text/plain": [
       "(array([0.72095673, 0.73397355, 0.9178119 , 0.91669791, 0.09243351,\n",
       "        0.89340639, 0.02497122, 0.90916697, 0.33023229, 0.11643543]),\n",
       " array([0.64296277, 0.96313594, 0.97514506, 0.07810477, 0.83988631,\n",
       "        0.8528423 , 0.22480897, 0.90653708, 0.66328997, 0.41293056]))"
      ]
     },
     "execution_count": 24,
     "metadata": {},
     "output_type": "execute_result"
    }
   ],
   "source": [
    "list2, list1"
   ]
  },
  {
   "cell_type": "code",
   "execution_count": 28,
   "id": "b3499c52",
   "metadata": {},
   "outputs": [],
   "source": [
    "add = np.add(list1, list2)\n",
    "sub = np.subtract(list1, list2)\n",
    "mult = np.multiply(list1, list2)\n",
    "div = np.divide(list1, list2)\n",
    "dot = np.dot(list1, list2)"
   ]
  },
  {
   "cell_type": "code",
   "execution_count": 32,
   "id": "5fef698c",
   "metadata": {},
   "outputs": [
    {
     "data": {
      "text/plain": [
       "(array([1.3639195 , 1.69710949, 1.89295696, 0.99480269, 0.93231982,\n",
       "        1.7462487 , 0.24978019, 1.81570405, 0.99352226, 0.52936598]),\n",
       " array([-0.07799395,  0.22916239,  0.05733316, -0.83859314,  0.7474528 ,\n",
       "        -0.04056409,  0.19983776, -0.00262989,  0.33305768,  0.29649513]),\n",
       " array([0.46354834, 0.70691631, 0.89499974, 0.07159848, 0.07763364,\n",
       "        0.76193477, 0.00561375, 0.82419357, 0.21903977, 0.04807975]),\n",
       " array([0.89181882, 1.31222159, 1.06246723, 0.0852023 , 9.08638335,\n",
       "        0.95459615, 9.00272439, 0.99710737, 2.00855576, 3.54643402]),\n",
       " 4.073558103863051)"
      ]
     },
     "execution_count": 32,
     "metadata": {},
     "output_type": "execute_result"
    }
   ],
   "source": [
    "add, sub, mult, div, dot"
   ]
  },
  {
   "cell_type": "code",
   "execution_count": 35,
   "id": "1edc5ef6",
   "metadata": {},
   "outputs": [],
   "source": [
    "# Stat functions\n",
    "sqrt =  np.sqrt(25)\n",
    "ab = np.abs(-2)\n",
    "power = np.power(2,6)\n",
    "exp = np.exp([2,3]) # creates e^x for x to be element of array\n",
    "min = np.min(list1)\n",
    "max = np.max(list1)"
   ]
  },
  {
   "cell_type": "code",
   "execution_count": 36,
   "id": "815cc43d",
   "metadata": {},
   "outputs": [
    {
     "data": {
      "text/plain": [
       "(5.0,\n",
       " 2,\n",
       " 64,\n",
       " array([ 7.3890561 , 20.08553692]),\n",
       " 0.07810477413374717,\n",
       " 0.975145061008479)"
      ]
     },
     "execution_count": 36,
     "metadata": {},
     "output_type": "execute_result"
    }
   ],
   "source": [
    "sqrt, ab, power, exp, min, max"
   ]
  },
  {
   "cell_type": "code",
   "execution_count": 37,
   "id": "620ee53d",
   "metadata": {},
   "outputs": [
    {
     "data": {
      "text/plain": [
       "array([[[0.6665153 , 0.38794641, 0.79701477, 0.51425981],\n",
       "        [0.76286871, 0.52891634, 0.00873656, 0.81671207],\n",
       "        [0.74252355, 0.22787815, 0.26794075, 0.02177878]],\n",
       "\n",
       "       [[0.38370799, 0.06082015, 0.8548143 , 0.48758651],\n",
       "        [0.58296561, 0.75399342, 0.14005816, 0.5185509 ],\n",
       "        [0.02866196, 0.26259479, 0.03295016, 0.75730273]]])"
      ]
     },
     "execution_count": 37,
     "metadata": {},
     "output_type": "execute_result"
    }
   ],
   "source": [
    "data"
   ]
  },
  {
   "cell_type": "code",
   "execution_count": 38,
   "id": "d2e0dd7a",
   "metadata": {},
   "outputs": [
    {
     "data": {
      "text/plain": [
       "0.6665153001987231"
      ]
     },
     "execution_count": 38,
     "metadata": {},
     "output_type": "execute_result"
    }
   ],
   "source": [
    "data[0][0][0]"
   ]
  },
  {
   "cell_type": "code",
   "execution_count": 39,
   "id": "4fc57a6e",
   "metadata": {},
   "outputs": [],
   "source": [
    "data[0][0][0] = 700"
   ]
  },
  {
   "cell_type": "code",
   "execution_count": 50,
   "id": "8c86d2a8",
   "metadata": {},
   "outputs": [
    {
     "data": {
      "text/plain": [
       "array([[[8.73656001e-03, 2.27878151e-01, 2.67940747e-01, 7.42523555e-01],\n",
       "        [2.17787761e-02, 5.14259805e-01, 7.62868708e-01, 8.16712073e-01],\n",
       "        [3.87946407e-01, 5.28916337e-01, 7.97014772e-01, 7.00000000e+02]],\n",
       "\n",
       "       [[2.86619608e-02, 3.29501590e-02, 2.62594791e-01, 7.53993422e-01],\n",
       "        [6.08201510e-02, 3.83707985e-01, 4.87586510e-01, 7.57302731e-01],\n",
       "        [1.40058163e-01, 5.18550896e-01, 5.82965615e-01, 8.54814297e-01]]])"
      ]
     },
     "execution_count": 50,
     "metadata": {},
     "output_type": "execute_result"
    }
   ],
   "source": [
    "data"
   ]
  },
  {
   "cell_type": "code",
   "execution_count": 51,
   "id": "fc7d8cbe",
   "metadata": {},
   "outputs": [],
   "source": [
    "data.sort()"
   ]
  },
  {
   "cell_type": "code",
   "execution_count": 52,
   "id": "1c57eb2e",
   "metadata": {},
   "outputs": [
    {
     "data": {
      "text/plain": [
       "array([[[8.73656001e-03, 2.27878151e-01, 2.67940747e-01, 7.42523555e-01],\n",
       "        [2.17787761e-02, 5.14259805e-01, 7.62868708e-01, 8.16712073e-01],\n",
       "        [3.87946407e-01, 5.28916337e-01, 7.97014772e-01, 7.00000000e+02]],\n",
       "\n",
       "       [[2.86619608e-02, 3.29501590e-02, 2.62594791e-01, 7.53993422e-01],\n",
       "        [6.08201510e-02, 3.83707985e-01, 4.87586510e-01, 7.57302731e-01],\n",
       "        [1.40058163e-01, 5.18550896e-01, 5.82965615e-01, 8.54814297e-01]]])"
      ]
     },
     "execution_count": 52,
     "metadata": {},
     "output_type": "execute_result"
    }
   ],
   "source": [
    "data"
   ]
  },
  {
   "cell_type": "code",
   "execution_count": 53,
   "id": "563670e0",
   "metadata": {},
   "outputs": [
    {
     "data": {
      "text/plain": [
       "array([[[8.73656001e-03, 2.27878151e-01, 2.67940747e-01, 7.42523555e-01],\n",
       "        [2.17787761e-02, 5.14259805e-01, 7.62868708e-01, 8.16712073e-01],\n",
       "        [3.87946407e-01, 5.28916337e-01, 7.97014772e-01, 7.00000000e+02]],\n",
       "\n",
       "       [[2.86619608e-02, 3.29501590e-02, 2.62594791e-01, 7.53993422e-01],\n",
       "        [6.08201510e-02, 3.83707985e-01, 4.87586510e-01, 7.57302731e-01],\n",
       "        [1.40058163e-01, 5.18550896e-01, 5.82965615e-01, 8.54814297e-01]]])"
      ]
     },
     "execution_count": 53,
     "metadata": {},
     "output_type": "execute_result"
    }
   ],
   "source": [
    "data"
   ]
  },
  {
   "cell_type": "code",
   "execution_count": 74,
   "id": "ff83afb8",
   "metadata": {},
   "outputs": [],
   "source": [
    "data =  data.reshape((2,2,-1))"
   ]
  },
  {
   "cell_type": "code",
   "execution_count": 75,
   "id": "eeb3f7ab",
   "metadata": {
    "scrolled": true
   },
   "outputs": [
    {
     "data": {
      "text/plain": [
       "(2, 2, 6)"
      ]
     },
     "execution_count": 75,
     "metadata": {},
     "output_type": "execute_result"
    }
   ],
   "source": [
    "data.shape"
   ]
  },
  {
   "cell_type": "code",
   "execution_count": 76,
   "id": "90917034",
   "metadata": {},
   "outputs": [
    {
     "name": "stdout",
     "output_type": "stream",
     "text": [
      "[0. 0.]\n",
      "[0. 0. 4. 3.]\n"
     ]
    }
   ],
   "source": [
    "zeroes = np.zeros(2)\n",
    "print(zeroes)\n",
    "zeroes = np.append(zeroes, [4,3])\n",
    "print(zeroes)"
   ]
  },
  {
   "cell_type": "code",
   "execution_count": 77,
   "id": "07de9dc8",
   "metadata": {},
   "outputs": [
    {
     "data": {
      "text/plain": [
       "array([0., 0., 4., 4., 3., 5., 3.])"
      ]
     },
     "execution_count": 77,
     "metadata": {},
     "output_type": "execute_result"
    }
   ],
   "source": [
    "# to insert at a specific place\n",
    "zeroes = np.insert(zeroes, 3, [4,3,5])\n",
    "zeroes"
   ]
  },
  {
   "cell_type": "markdown",
   "id": "24dcc54e",
   "metadata": {},
   "source": [
    "Delete"
   ]
  },
  {
   "cell_type": "code",
   "execution_count": 78,
   "id": "865025e4",
   "metadata": {},
   "outputs": [
    {
     "data": {
      "text/plain": [
       "array([[[8.73656001e-03, 2.27878151e-01, 2.67940747e-01, 7.42523555e-01,\n",
       "         2.17787761e-02, 5.14259805e-01],\n",
       "        [7.62868708e-01, 8.16712073e-01, 3.87946407e-01, 5.28916337e-01,\n",
       "         7.97014772e-01, 7.00000000e+02]],\n",
       "\n",
       "       [[2.86619608e-02, 3.29501590e-02, 2.62594791e-01, 7.53993422e-01,\n",
       "         6.08201510e-02, 3.83707985e-01],\n",
       "        [4.87586510e-01, 7.57302731e-01, 1.40058163e-01, 5.18550896e-01,\n",
       "         5.82965615e-01, 8.54814297e-01]]])"
      ]
     },
     "execution_count": 78,
     "metadata": {},
     "output_type": "execute_result"
    }
   ],
   "source": [
    "data"
   ]
  },
  {
   "cell_type": "code",
   "execution_count": 80,
   "id": "dfb14787",
   "metadata": {},
   "outputs": [
    {
     "data": {
      "text/plain": [
       "array([[[7.62868708e-01, 8.16712073e-01, 3.87946407e-01, 5.28916337e-01,\n",
       "         7.97014772e-01, 7.00000000e+02]],\n",
       "\n",
       "       [[4.87586510e-01, 7.57302731e-01, 1.40058163e-01, 5.18550896e-01,\n",
       "         5.82965615e-01, 8.54814297e-01]]])"
      ]
     },
     "execution_count": 80,
     "metadata": {},
     "output_type": "execute_result"
    }
   ],
   "source": [
    "np.delete(data, 0, axis=1)\n",
    "# axis here specifies how to delete the array, axis = 1 deletes horizontally that is alopng rows\n",
    "# axis = 0 delete along columns"
   ]
  },
  {
   "cell_type": "code",
   "execution_count": 81,
   "id": "0ebeaf65",
   "metadata": {},
   "outputs": [],
   "source": [
    "np.save(\"new array\", data)"
   ]
  },
  {
   "cell_type": "code",
   "execution_count": 82,
   "id": "45c5e2a8",
   "metadata": {},
   "outputs": [
    {
     "data": {
      "text/plain": [
       "array([[[8.73656001e-03, 2.27878151e-01, 2.67940747e-01, 7.42523555e-01,\n",
       "         2.17787761e-02, 5.14259805e-01],\n",
       "        [7.62868708e-01, 8.16712073e-01, 3.87946407e-01, 5.28916337e-01,\n",
       "         7.97014772e-01, 7.00000000e+02]],\n",
       "\n",
       "       [[2.86619608e-02, 3.29501590e-02, 2.62594791e-01, 7.53993422e-01,\n",
       "         6.08201510e-02, 3.83707985e-01],\n",
       "        [4.87586510e-01, 7.57302731e-01, 1.40058163e-01, 5.18550896e-01,\n",
       "         5.82965615e-01, 8.54814297e-01]]])"
      ]
     },
     "execution_count": 82,
     "metadata": {},
     "output_type": "execute_result"
    }
   ],
   "source": [
    "new = np.load(\"new array.npy\")\n",
    "new"
   ]
  },
  {
   "cell_type": "code",
   "execution_count": null,
   "id": "a3071ab1",
   "metadata": {},
   "outputs": [],
   "source": []
  }
 ],
 "metadata": {
  "kernelspec": {
   "display_name": "Python 3 (ipykernel)",
   "language": "python",
   "name": "python3"
  },
  "language_info": {
   "codemirror_mode": {
    "name": "ipython",
    "version": 3
   },
   "file_extension": ".py",
   "mimetype": "text/x-python",
   "name": "python",
   "nbconvert_exporter": "python",
   "pygments_lexer": "ipython3",
   "version": "3.11.4"
  }
 },
 "nbformat": 4,
 "nbformat_minor": 5
}
